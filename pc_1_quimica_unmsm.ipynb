{
  "nbformat": 4,
  "nbformat_minor": 0,
  "metadata": {
    "colab": {
      "provenance": [],
      "include_colab_link": true
    },
    "kernelspec": {
      "name": "python3",
      "display_name": "Python 3"
    },
    "language_info": {
      "name": "python"
    },
    "widgets": {
      "application/vnd.jupyter.widget-state+json": {
        "28cb829910894183a648b95c69b5614e": {
          "model_module": "faerun-notebook",
          "model_name": "SmilesDrawerModel",
          "model_module_version": "^0.1.5",
          "state": {
            "_dom_classes": [],
            "_model_module": "faerun-notebook",
            "_model_module_version": "^0.1.5",
            "_model_name": "SmilesDrawerModel",
            "_view_count": null,
            "_view_module": "faerun-notebook",
            "_view_module_version": "^0.1.5",
            "_view_name": "SmilesDrawerView",
            "background": "#1e1e1e",
            "border": true,
            "layout": "IPY_MODEL_60851631d936465aadad388915fd7c74",
            "options": {
              "scale": 1.5
            },
            "output": "svg",
            "theme": "dark",
            "value": [
              [
                "Rxn",
                "C(C1C(C(C(C(O1)O)O)O)O)O.O=O>>C(=O)=O.O"
              ]
            ]
          }
        },
        "60851631d936465aadad388915fd7c74": {
          "model_module": "@jupyter-widgets/base",
          "model_name": "LayoutModel",
          "model_module_version": "1.2.0",
          "state": {
            "_model_module": "@jupyter-widgets/base",
            "_model_module_version": "1.2.0",
            "_model_name": "LayoutModel",
            "_view_count": null,
            "_view_module": "@jupyter-widgets/base",
            "_view_module_version": "1.2.0",
            "_view_name": "LayoutView",
            "align_content": null,
            "align_items": null,
            "align_self": null,
            "border": null,
            "bottom": null,
            "display": null,
            "flex": null,
            "flex_flow": null,
            "grid_area": null,
            "grid_auto_columns": null,
            "grid_auto_flow": null,
            "grid_auto_rows": null,
            "grid_column": null,
            "grid_gap": null,
            "grid_row": null,
            "grid_template_areas": null,
            "grid_template_columns": null,
            "grid_template_rows": null,
            "height": null,
            "justify_content": null,
            "justify_items": null,
            "left": null,
            "margin": null,
            "max_height": null,
            "max_width": null,
            "min_height": null,
            "min_width": null,
            "object_fit": null,
            "object_position": null,
            "order": null,
            "overflow": null,
            "overflow_x": null,
            "overflow_y": null,
            "padding": null,
            "right": null,
            "top": null,
            "visibility": null,
            "width": null
          }
        }
      }
    }
  },
  "cells": [
    {
      "cell_type": "markdown",
      "metadata": {
        "id": "view-in-github",
        "colab_type": "text"
      },
      "source": [
        "<a href=\"https://colab.research.google.com/github/mrBeritas/PracticaCalificada1_Quimica/blob/main/pc_1_quimica_unmsm.ipynb\" target=\"_parent\"><img src=\"https://colab.research.google.com/assets/colab-badge.svg\" alt=\"Open In Colab\"/></a>"
      ]
    },
    {
      "cell_type": "markdown",
      "source": [
        "$$\\Large \\textit{UNMSM | Química}$$\n",
        "$$\\large \\textbf{PC Nº1 | Materia y clasificación}$$\n",
        "\n",
        "_Profesor: Jesus Alvarado Huayhuaz_"
      ],
      "metadata": {
        "id": "sDJAjbaQOj4x"
      }
    },
    {
      "cell_type": "markdown",
      "source": [
        "Todas las indicaciones para la presentación de la práctica son explicadas en clase y brindadas en el material de enunciado de preguntas en formato PDF."
      ],
      "metadata": {
        "id": "_DsTzWLoP7Fy"
      }
    },
    {
      "cell_type": "markdown",
      "source": [
        "## Pregunta 1: Sobre el ABC de python (4 puntos)"
      ],
      "metadata": {
        "id": "obD7c2igOD6t"
      }
    },
    {
      "cell_type": "markdown",
      "source": [
        "Durante la semana de revisión del material \"ABC de python\", reflexiona sobre qué conceptos aprendiste con claridad y cuáles consideras los más desafiantes. A continuación resuelve los siguiente ejercicios, puedes ayudarte del material en http://bit.ly/3YKICSZ."
      ],
      "metadata": {
        "id": "emt93S7dL7QH"
      }
    },
    {
      "cell_type": "code",
      "source": [
        "# Imprime la versión de python que usas y las palabras reservadas de python para esa versión.\n",
        "import keyword\n",
        "import sys\n",
        "\n",
        "print(\"Version: \", sys.version)\n",
        "\n",
        "print(\"Palabras reservadas de Python:\")\n",
        "print(keyword.kwlist)"
      ],
      "metadata": {
        "id": "6mJvqMN0LTU8",
        "colab": {
          "base_uri": "https://localhost:8080/"
        },
        "outputId": "144314e2-1b5c-4319-f39d-59529bd2f541"
      },
      "execution_count": 9,
      "outputs": [
        {
          "output_type": "stream",
          "name": "stdout",
          "text": [
            "Version:  3.10.12 (main, Jun 11 2023, 05:26:28) [GCC 11.4.0]\n",
            "Palabras reservadas de Python:\n",
            "['False', 'None', 'True', 'and', 'as', 'assert', 'async', 'await', 'break', 'class', 'continue', 'def', 'del', 'elif', 'else', 'except', 'finally', 'for', 'from', 'global', 'if', 'import', 'in', 'is', 'lambda', 'nonlocal', 'not', 'or', 'pass', 'raise', 'return', 'try', 'while', 'with', 'yield']\n"
          ]
        }
      ]
    },
    {
      "cell_type": "code",
      "source": [
        "# Crea una matriz de 3x3 e imprime la suma de los elementos en su diagonal (traza).\n",
        "matriz = [[1,2,3],\n",
        "          [4,5,6],\n",
        "          [7,8,9]]\n",
        "\n",
        "suma = 0\n",
        "\n",
        "for i in range(3):\n",
        "  for j in range(3):\n",
        "    if i==j:\n",
        "      suma += matriz[i][j]\n",
        "\n",
        "print(\"El resultado de la suma de la diagonal es igual a: \", suma)"
      ],
      "metadata": {
        "id": "MxDzGypdLTXh",
        "colab": {
          "base_uri": "https://localhost:8080/"
        },
        "outputId": "cd6330b7-3bc3-4a97-e279-44fdccd33c7d"
      },
      "execution_count": null,
      "outputs": [
        {
          "output_type": "stream",
          "name": "stdout",
          "text": [
            "El resultado de la suma de la diagonal es igual a:  15\n"
          ]
        }
      ]
    },
    {
      "cell_type": "code",
      "source": [
        "# Guarda como variable la masa atómica de los elementos C, H y O, e imprime la masa molecular del etanol.\n",
        "masaC = 12\n",
        "masaH = 1\n",
        "masaO = 16\n",
        "\n",
        "masaMolecularEtanol = [masaC*3, masaH*6, masaO]\n",
        "\n",
        "suma = 0\n",
        "\n",
        "for mas in masaMolecularEtanol:\n",
        "  suma += mas\n",
        "\n",
        "print(\"La masa molecular del etanol es: \", suma)"
      ],
      "metadata": {
        "id": "MyhNX7JmLTSe",
        "colab": {
          "base_uri": "https://localhost:8080/"
        },
        "outputId": "4fd14a8d-eb84-4553-ce60-67ecf7a73e28"
      },
      "execution_count": null,
      "outputs": [
        {
          "output_type": "stream",
          "name": "stdout",
          "text": [
            "La masa molecular del etanol es:  58\n"
          ]
        }
      ]
    },
    {
      "cell_type": "code",
      "source": [
        "# Busca la temperatura de fusión en Celsius de 5 metales y guárdalos en una lista. Imprime las temperaturas en Kelvin\n",
        "metales = [\n",
        "    {\"nombre\": \"Hierro\", \"temperatura_fusion\": 1538},\n",
        "    {\"nombre\": \"Cobre\", \"temperatura_fusion\": 1084},\n",
        "    {\"nombre\": \"Aluminio\", \"temperatura_fusion\": 660},\n",
        "    {\"nombre\": \"Plomo\", \"temperatura_fusion\": 327},\n",
        "    {\"nombre\": \"Zinc\", \"temperatura_fusion\": 419}\n",
        "]\n",
        "\n",
        "for metal in metales:\n",
        "    print(f\"Metal: {metal['nombre']}, Temperatura de Fusión en Kelvin: {metal['temperatura_fusion'] +273}°K\")"
      ],
      "metadata": {
        "id": "NCOnJ0FwgLLc",
        "colab": {
          "base_uri": "https://localhost:8080/"
        },
        "outputId": "56f592a8-cdea-4170-d8be-a4342d99765c"
      },
      "execution_count": null,
      "outputs": [
        {
          "output_type": "stream",
          "name": "stdout",
          "text": [
            "Metal: Hierro, Temperatura de Fusión en Kelvin: 1811°K\n",
            "Metal: Cobre, Temperatura de Fusión en Kelvin: 1357°K\n",
            "Metal: Aluminio, Temperatura de Fusión en Kelvin: 933°K\n",
            "Metal: Plomo, Temperatura de Fusión en Kelvin: 600°K\n",
            "Metal: Zinc, Temperatura de Fusión en Kelvin: 692°K\n"
          ]
        }
      ]
    },
    {
      "cell_type": "markdown",
      "source": [
        "## Pregunta 2: Operaciones (4 puntos)"
      ],
      "metadata": {
        "id": "epzOadagLfPi"
      }
    },
    {
      "cell_type": "markdown",
      "source": [
        "Escribe un programa que lea repetidamente elementos químicos en español\n",
        "\n",
        "*   Elemento de la lista\n",
        "*   Elemento de la lista\n",
        "\n",
        "hasta que el usuario introduzca “fin”. Una vez se haya introducido “fin”, muestra por pantalla (o sea imprime) el total de elementos ingresados. Si el usuario introduce cualquier otra cosa que no sea un elemento químico, detecta su fallo usando try y except, muestra un mensaje de error y pasa al siguiente elemento."
      ],
      "metadata": {
        "id": "MbAEOGPsjOWZ"
      }
    },
    {
      "cell_type": "code",
      "source": [
        "elementos_quimicos = [\n",
        "    \"hidrogeno\", \"helio\", \"litio\", \"berilio\", \"boro\", \"carbono\", \"nitrogeno\", \"oxigeno\", \"fluor\", \"neon\",\n",
        "    \"sodio\", \"magnesio\", \"aluminio\", \"silicio\", \"fosforo\", \"azufre\", \"cloro\", \"argon\", \"potasio\", \"calcio\",\n",
        "    \"escandio\", \"titanio\", \"vanadio\", \"cromo\", \"manganeso\", \"hierro\", \"niquel\", \"cobalto\", \"cobre\", \"zinc\",\n",
        "    \"galio\", \"germanio\", \"arsenico\", \"selenio\", \"bromo\", \"kripton\", \"rubidio\", \"estroncio\", \"itrio\", \"zirconio\",\n",
        "    \"niobio\", \"molibdeno\", \"tecnecio\", \"rutenio\", \"rodio\", \"paladio\", \"plata\", \"cadmio\", \"indio\", \"estano\",\n",
        "    \"antimonio\", \"telurio\", \"yodo\", \"xenon\", \"cesio\", \"bario\", \"lantano\", \"cerio\", \"praseodimio\", \"neodimio\",\n",
        "    \"prometio\", \"samario\", \"europio\", \"gadolinio\", \"terbio\", \"disprosio\", \"holmio\", \"erbio\", \"tulio\", \"iterbio\",\n",
        "    \"lutecio\", \"hafnio\", \"tantalio\", \"wolframio\", \"renio\", \"osmio\", \"iridio\", \"platino\", \"oro\", \"mercurio\",\n",
        "    \"talio\", \"plomo\", \"bismuto\", \"torio\", \"protactinio\", \"uranio\", \"neptunio\", \"plutonio\", \"americio\", \"curio\",\n",
        "    \"berkelio\", \"californio\", \"einstenio\", \"fermio\", \"mendelevio\", \"nobelio\", \"laurencio\", \"rutherfordio\",\n",
        "    \"dubnio\", \"seaborgio\", \"bohrio\", \"hassio\", \"meitnerio\", \"darmstatio\", \"roentgenio\", \"copernicio\", \"nihonio\",\n",
        "    \"flerovio\", \"moscovio\", \"Livermorio\", \"tenesino\", \"oganeson\"\n",
        "]\n",
        "\n",
        "elementos_quimicos_ingresados = []\n",
        "\n",
        "while True:\n",
        "    entrada = input(\"Ingresa un elemento químico (o 'fin' para terminar): \")\n",
        "\n",
        "    if entrada.lower() == \"fin\":\n",
        "        break\n",
        "\n",
        "    try:\n",
        "        if entrada.lower() in elementos_quimicos:\n",
        "            print(\"Es un elemento químico\")\n",
        "            elementos_quimicos_ingresados.append(entrada)\n",
        "        else:\n",
        "            print(\"No es un elemento químico\")\n",
        "    except:\n",
        "        print(\"Error al verificar el elemento. Por favor, inténtalo nuevamente.\")\n",
        "\n",
        "print(\"Programa finalizado\")\n",
        "print(\"Elementos quimicos ingresados: \", elementos_quimicos_ingresados)"
      ],
      "metadata": {
        "id": "gJGX0p5QLetj",
        "colab": {
          "base_uri": "https://localhost:8080/"
        },
        "outputId": "6d9b0e99-a101-4d8a-ad0a-72ccb5f31dfb"
      },
      "execution_count": null,
      "outputs": [
        {
          "output_type": "stream",
          "name": "stdout",
          "text": [
            "Ingresa un elemento químico (o 'fin' para terminar): helio\n",
            "Es un elemento químico\n",
            "Ingresa un elemento químico (o 'fin' para terminar): hidrogeno\n",
            "Es un elemento químico\n",
            "Ingresa un elemento químico (o 'fin' para terminar): litio\n",
            "Es un elemento químico\n",
            "Ingresa un elemento químico (o 'fin' para terminar): oro\n",
            "Es un elemento químico\n",
            "Ingresa un elemento químico (o 'fin' para terminar): plata\n",
            "Es un elemento químico\n",
            "Ingresa un elemento químico (o 'fin' para terminar): fin\n",
            "Programa finalizado\n",
            "Elementos quimicos ingresados:  ['helio', 'hidrogeno', 'litio', 'oro', 'plata']\n"
          ]
        }
      ]
    },
    {
      "cell_type": "markdown",
      "source": [
        "# Pregunta 3: Conservación de la masa (4 puntos)"
      ],
      "metadata": {
        "id": "8gxSHpD3LZsh"
      }
    },
    {
      "cell_type": "markdown",
      "source": [
        "### Código necesario para generar la imagen"
      ],
      "metadata": {
        "id": "mMV9c3hDl7KL"
      }
    },
    {
      "cell_type": "code",
      "source": [
        "!pip install faerun-notebook==0.1.5b0\n",
        "\n",
        "import ipywidgets as widgets\n",
        "from faerun_notebook import SmilesDrawer\n",
        "from google.colab import output\n",
        "output.enable_custom_widget_manager()"
      ],
      "metadata": {
        "id": "JgF8Ohtbky65"
      },
      "execution_count": null,
      "outputs": []
    },
    {
      "cell_type": "markdown",
      "source": [
        "### Reacción química"
      ],
      "metadata": {
        "id": "5sLC10D_oSrV"
      }
    },
    {
      "cell_type": "markdown",
      "source": [
        "Demuestra cómo se cumple la conservación de la masa en la siguiente reacción química. Sugerencia: hacer un balance estequiométrico y luego emplear la masa molecular de reactivos y productos."
      ],
      "metadata": {
        "id": "OVRhAzaVmD86"
      }
    },
    {
      "cell_type": "code",
      "source": [
        "SmilesDrawer(value=[(\"Rxn\", \"C(C1C(C(C(C(O1)O)O)O)O)O.O=O>>C(=O)=O.O\")], theme='dark', background=\"#1e1e1e\", options={'scale': 1.5})"
      ],
      "metadata": {
        "colab": {
          "base_uri": "https://localhost:8080/",
          "height": 335,
          "referenced_widgets": [
            "28cb829910894183a648b95c69b5614e",
            "60851631d936465aadad388915fd7c74"
          ]
        },
        "id": "CC0mAXWmnYyN",
        "outputId": "b5441727-f451-45c9-db41-e279d16fc9df"
      },
      "execution_count": null,
      "outputs": [
        {
          "output_type": "display_data",
          "data": {
            "text/plain": [
              "SmilesDrawer(background='#1e1e1e', options={'scale': 1.5}, theme='dark', value=[('Rxn', 'C(C1C(C(C(C(O1)O)O)O)…"
            ],
            "application/vnd.jupyter.widget-view+json": {
              "version_major": 2,
              "version_minor": 0,
              "model_id": "28cb829910894183a648b95c69b5614e"
            }
          },
          "metadata": {
            "application/vnd.jupyter.widget-view+json": {
              "colab": {
                "custom_widget_manager": {
                  "url": "https://ssl.gstatic.com/colaboratory-static/widgets/colab-cdn-widget-manager/b3e629b1971e1542/manager.min.js"
                }
              }
            }
          }
        }
      ]
    },
    {
      "cell_type": "code",
      "source": [
        "C = 12\n",
        "H = 1\n",
        "O = 16\n",
        "\n",
        "React1 = \"C6H12O6\"\n",
        "React2 = \"O2\"\n",
        "Prod1 = \"CO2\"\n",
        "Prod2 = \"H2O\"\n",
        "\n",
        "masReact1 = (6*C) + (12*H) + (6*O)\n",
        "masReact2 = 2*O\n",
        "\n",
        "masProd1 = C + (2*O)\n",
        "masProd2 = (2*H) + O\n",
        "\n",
        "print(\"Forma balanceada de la ecuacion: \", React1, \"+ 6\", React2, \"→\", \"6\", Prod1, \"+\", \"+6\", Prod2)\n",
        "masReactT = masReact1 + (6*masReact2)\n",
        "masProdT = (6*masProd1) + (6*masProd2)\n",
        "\n",
        "if (masReactT == masProdT):\n",
        "  print(\"Conservacion de la masa validada\")\n",
        "else:\n",
        "  print(\"Conservacion de masa invalida\")\n",
        "\n"
      ],
      "metadata": {
        "id": "56yJ_RsI3j5_",
        "outputId": "cdbb92c2-2b2b-45ce-8875-47542b627aa3",
        "colab": {
          "base_uri": "https://localhost:8080/"
        }
      },
      "execution_count": 8,
      "outputs": [
        {
          "output_type": "stream",
          "name": "stdout",
          "text": [
            "Forma balanceada de la ecuacion:  C6H12O6 + 6 O2 → 6 CO2 + +6 H2O\n",
            "Conservacion de la masa validada\n"
          ]
        }
      ]
    },
    {
      "cell_type": "markdown",
      "source": [
        "## Pregunta 4: Notación científica (4 puntos)"
      ],
      "metadata": {
        "id": "Rh-nAUiKhJNB"
      }
    },
    {
      "cell_type": "markdown",
      "source": [
        "Imprime las siguientes operaciones según la notación científica:\n",
        "\n",
        "(1) $1.321 \\times 10^{-4} + 8.5 \\times 10^{-2}$\n",
        "\n",
        "(2) $1.71 \\times 10^{3} - 2.01 \\times 10^{2}\\$\n",
        "\n",
        "(3) $(7.4 \\times 10^5)(7.2 \\times 10^4)$\n",
        "\n",
        "(4) $(7.4 \\times 10^5)/(7.2 \\times 10^4)$"
      ],
      "metadata": {
        "id": "NIkI45Xdqqnt"
      }
    },
    {
      "cell_type": "code",
      "source": [
        "op1 = 1.321*(10**(-4)) + 8.5*(10**(-2))\n",
        "op2 = 1.71*(10**(3)) - 2.01*(10**(2))\n",
        "op3 = (7.34*(10**3)) * (7.2*(10**4))\n",
        "op4 = (7.34*(10**3)) / (7.2*(10**4))\n",
        "\n",
        "def notacionCientifica(numero):\n",
        "    valorRedondeado = \"{: .3e}\".format(numero)\n",
        "    if \"e+\" in valorRedondeado:\n",
        "        valorCientifico = valorRedondeado.replace(\"e+\",\"x10^\")\n",
        "    if \"e-\" in valorRedondeado:\n",
        "        valorCientifico = valorRedondeado.replace(\"e-\",\"x10^-\")\n",
        "    print(valorCientifico)\n",
        "\n",
        "notacionCientifica(op1)\n",
        "notacionCientifica(op2)\n",
        "notacionCientifica(op3)\n",
        "notacionCientifica(op4)"
      ],
      "metadata": {
        "colab": {
          "base_uri": "https://localhost:8080/"
        },
        "id": "eULxYP6Ki9e0",
        "outputId": "3c810f2a-fdf0-41d1-ac19-02eff11e8a08"
      },
      "execution_count": null,
      "outputs": [
        {
          "output_type": "stream",
          "name": "stdout",
          "text": [
            " 8.513x10^-02\n",
            " 1.509x10^03\n",
            " 5.285x10^08\n",
            " 1.019x10^-01\n"
          ]
        }
      ]
    },
    {
      "cell_type": "markdown",
      "source": [
        "## Pregunta 5: Método científico (4 puntos)"
      ],
      "metadata": {
        "id": "CuzCcXJghR14"
      }
    },
    {
      "cell_type": "markdown",
      "source": [
        "Artículo: https://bit.ly/3surZ1W\n",
        "Leer el siguiente artículo y explica cómo es aplicado el método científico. Emplea como máximo 300 palabras."
      ],
      "metadata": {
        "id": "WngRSR-Rhmx1"
      }
    },
    {
      "cell_type": "markdown",
      "source": [
        "El proceso inicia con la observacion del fenomeno en cuestion, en este caso el material LK-99 y se formula la pregunta de que si es un soperconductor a temperatura ambiente, lo cual seria un hito historico, al inicio mediante observacions dio indicios de superconductividad entonces se formula la hipotesis la cual sera verificada o desmontada mediante las siguientes etapas.\n",
        "Se procede con la experimentacion donde se busco replicar las caracterisiticas observadas en un inicio pero no resultaron y se hallaron impurezas en el material por lo que al final se dan las concluciones que en este caso resultaron que era un aislante en lugar de un superconductor."
      ],
      "metadata": {
        "id": "2CRIoF94jScn"
      }
    }
  ]
}